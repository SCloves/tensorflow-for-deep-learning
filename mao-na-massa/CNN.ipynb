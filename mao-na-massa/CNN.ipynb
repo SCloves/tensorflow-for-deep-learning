{
 "cells": [
  {
   "cell_type": "code",
   "execution_count": 1,
   "metadata": {},
   "outputs": [],
   "source": [
    "from __future__ import absolute_import\n",
    "from __future__ import division\n",
    "from __future__ import print_function"
   ]
  },
  {
   "cell_type": "code",
   "execution_count": 2,
   "metadata": {},
   "outputs": [],
   "source": [
    "import os\n",
    "import collections\n",
    "import itertools"
   ]
  },
  {
   "cell_type": "code",
   "execution_count": 3,
   "metadata": {},
   "outputs": [],
   "source": [
    "import numpy as np\n",
    "import pandas as pd\n",
    "import scipy as sp\n",
    "import scipy.io as spio\n",
    "import tensorflow as tf"
   ]
  },
  {
   "cell_type": "code",
   "execution_count": 4,
   "metadata": {},
   "outputs": [],
   "source": [
    "%matplotlib inline\n",
    "\n",
    "import matplotlib\n",
    "import matplotlib.pyplot as plt"
   ]
  },
  {
   "cell_type": "code",
   "execution_count": 5,
   "metadata": {},
   "outputs": [],
   "source": [
    "from six.moves import urllib"
   ]
  },
  {
   "cell_type": "code",
   "execution_count": 6,
   "metadata": {},
   "outputs": [],
   "source": [
    "train_mat = spio.loadmat('train_32x32.mat', squeeze_me=True)"
   ]
  },
  {
   "cell_type": "code",
   "execution_count": 7,
   "metadata": {},
   "outputs": [],
   "source": [
    "test_mat = spio.loadmat('test_32x32.mat', squeeze_me=True)"
   ]
  },
  {
   "cell_type": "code",
   "execution_count": 8,
   "metadata": {},
   "outputs": [
    {
     "data": {
      "text/plain": [
       "dict_keys(['__version__', 'y', 'X', '__globals__', '__header__'])"
      ]
     },
     "execution_count": 8,
     "metadata": {},
     "output_type": "execute_result"
    }
   ],
   "source": [
    "train_mat.keys()"
   ]
  },
  {
   "cell_type": "code",
   "execution_count": 9,
   "metadata": {},
   "outputs": [],
   "source": [
    "# vamos extrair só as variáveis que nos interessam\n",
    "\n",
    "x_train = train_mat['X']\n",
    "y_train = train_mat['y']\n",
    "\n",
    "x_test = test_mat['X']\n",
    "y_test = test_mat['y']"
   ]
  },
  {
   "cell_type": "code",
   "execution_count": 10,
   "metadata": {},
   "outputs": [
    {
     "data": {
      "text/plain": [
       "(32, 32, 3, 73257)"
      ]
     },
     "execution_count": 10,
     "metadata": {},
     "output_type": "execute_result"
    }
   ],
   "source": [
    "x_train.shape"
   ]
  },
  {
   "cell_type": "code",
   "execution_count": 11,
   "metadata": {},
   "outputs": [
    {
     "data": {
      "text/plain": [
       "array([[[ 33,  84,  19, ...,  92, 190, 216],\n",
       "        [ 30,  76,  54, ...,  78, 188, 217],\n",
       "        [ 38,  59, 110, ..., 101, 191, 212]],\n",
       "\n",
       "       [[ 15,  86,  20, ...,  94, 205, 221],\n",
       "        [ 23,  73,  52, ...,  82, 203, 222],\n",
       "        [ 19,  66, 111, ..., 105, 206, 217]],\n",
       "\n",
       "       [[ 15,  77,  25, ..., 114, 220, 226],\n",
       "        [ 17,  78,  57, ..., 101, 218, 227],\n",
       "        [ 19,  56, 116, ..., 125, 220, 221]],\n",
       "\n",
       "       ...,\n",
       "\n",
       "       [[ 72,  90,  65, ..., 200, 229, 200],\n",
       "        [ 65,  78, 144, ..., 201, 231, 199],\n",
       "        [ 56,  69, 223, ..., 203, 224, 191]],\n",
       "\n",
       "       [[ 82,  88,  78, ..., 192, 229, 193],\n",
       "        [ 77,  77, 148, ..., 193, 229, 188],\n",
       "        [ 57,  67, 218, ..., 195, 224, 182]],\n",
       "\n",
       "       [[ 89,  88,  98, ..., 190, 229, 197],\n",
       "        [ 79,  78, 158, ..., 191, 228, 189],\n",
       "        [ 59,  66, 220, ..., 193, 223, 186]]], dtype=uint8)"
      ]
     },
     "execution_count": 11,
     "metadata": {},
     "output_type": "execute_result"
    }
   ],
   "source": [
    "x_train[0]"
   ]
  },
  {
   "cell_type": "code",
   "execution_count": 12,
   "metadata": {},
   "outputs": [
    {
     "data": {
      "text/plain": [
       "((73257,), (26032,))"
      ]
     },
     "execution_count": 12,
     "metadata": {},
     "output_type": "execute_result"
    }
   ],
   "source": [
    "y_train.shape, y_test.shape"
   ]
  },
  {
   "cell_type": "code",
   "execution_count": 13,
   "metadata": {},
   "outputs": [],
   "source": [
    "x_train = np.transpose(x_train, (3, 0, 1, 2))\n",
    "x_test = np.transpose(x_test, (3, 0, 1, 2))"
   ]
  },
  {
   "cell_type": "code",
   "execution_count": 14,
   "metadata": {},
   "outputs": [
    {
     "data": {
      "text/plain": [
       "array([[[ 33,  30,  38],\n",
       "        [ 15,  23,  19],\n",
       "        [ 15,  17,  19],\n",
       "        ...,\n",
       "        [ 72,  65,  56],\n",
       "        [ 82,  77,  57],\n",
       "        [ 89,  79,  59]],\n",
       "\n",
       "       [[ 28,  39,  35],\n",
       "        [ 14,  25,  22],\n",
       "        [ 14,  20,  17],\n",
       "        ...,\n",
       "        [ 40,  39,  50],\n",
       "        [ 67,  58,  52],\n",
       "        [ 83,  78,  60]],\n",
       "\n",
       "       [[ 40,  41,  38],\n",
       "        [ 18,  21,  26],\n",
       "        [ 16,  17,  23],\n",
       "        ...,\n",
       "        [ 23,  29,  45],\n",
       "        [ 35,  42,  44],\n",
       "        [ 72,  69,  53]],\n",
       "\n",
       "       ...,\n",
       "\n",
       "       [[ 86,  81,  75],\n",
       "        [ 87,  82,  71],\n",
       "        [ 82,  79,  65],\n",
       "        ...,\n",
       "        [104, 104,  87],\n",
       "        [104, 105,  81],\n",
       "        [103, 105,  78]],\n",
       "\n",
       "       [[ 84,  86,  64],\n",
       "        [ 86,  79,  72],\n",
       "        [ 82,  76,  72],\n",
       "        ...,\n",
       "        [110, 103,  84],\n",
       "        [106, 105,  85],\n",
       "        [106, 104,  86]],\n",
       "\n",
       "       [[ 85,  88,  68],\n",
       "        [ 89,  82,  72],\n",
       "        [ 85,  79,  67],\n",
       "        ...,\n",
       "        [111, 104,  87],\n",
       "        [109, 105,  86],\n",
       "        [103, 106,  79]]], dtype=uint8)"
      ]
     },
     "execution_count": 14,
     "metadata": {},
     "output_type": "execute_result"
    }
   ],
   "source": [
    "x_train[0]"
   ]
  },
  {
   "cell_type": "code",
   "execution_count": 48,
   "metadata": {},
   "outputs": [],
   "source": [
    "x_train = x_train[:15000]\n",
    "x_test = x_test[:15000]"
   ]
  },
  {
   "cell_type": "code",
   "execution_count": 49,
   "metadata": {},
   "outputs": [],
   "source": [
    "y_train = y_train[:15000]\n",
    "y_test = y_test[:15000]"
   ]
  },
  {
   "cell_type": "code",
   "execution_count": 50,
   "metadata": {},
   "outputs": [
    {
     "data": {
      "text/plain": [
       "(10000, 32, 32, 3)"
      ]
     },
     "execution_count": 50,
     "metadata": {},
     "output_type": "execute_result"
    }
   ],
   "source": [
    "x_train.shape"
   ]
  },
  {
   "cell_type": "code",
   "execution_count": 51,
   "metadata": {},
   "outputs": [
    {
     "data": {
      "text/plain": [
       "(32, 32, 3)"
      ]
     },
     "execution_count": 51,
     "metadata": {},
     "output_type": "execute_result"
    }
   ],
   "source": [
    "x_train[0].shape"
   ]
  },
  {
   "cell_type": "code",
   "execution_count": 52,
   "metadata": {},
   "outputs": [],
   "source": [
    "def display_digit(digit):\n",
    "    plt.imshow(digit, interpolation='nearest')"
   ]
  },
  {
   "cell_type": "code",
   "execution_count": 53,
   "metadata": {},
   "outputs": [
    {
     "data": {
      "image/png": "[encoded data removed]",
      "text/plain": [
       "<matplotlib.figure.Figure at 0x7f27e6fba780>"
      ]
     },
     "metadata": {},
     "output_type": "display_data"
    }
   ],
   "source": [
    "display_digit(x_train[0])"
   ]
  },
  {
   "cell_type": "code",
   "execution_count": 54,
   "metadata": {},
   "outputs": [
    {
     "data": {
      "image/png": "[encoded data removed]",
      "text/plain": [
       "<matplotlib.figure.Figure at 0x7f27e6fba710>"
      ]
     },
     "metadata": {},
     "output_type": "display_data"
    }
   ],
   "source": [
    "display_digit(x_test[19])"
   ]
  },
  {
   "cell_type": "code",
   "execution_count": 81,
   "metadata": {},
   "outputs": [],
   "source": [
    "height = 32\n",
    "width = 32\n",
    "channels = 3\n",
    "\n",
    "n_inputs = height * width"
   ]
  },
  {
   "cell_type": "code",
   "execution_count": 56,
   "metadata": {},
   "outputs": [],
   "source": [
    "conv1_featrure_maps = 32\n",
    "conv1_kernel_size = 3\n",
    "conv1_stride = 1\n",
    "conv1_pad = 'SAME'"
   ]
  },
  {
   "cell_type": "code",
   "execution_count": 57,
   "metadata": {},
   "outputs": [],
   "source": [
    "conv2_featrure_maps = 62\n",
    "conv2_kernel_size = 3\n",
    "conv2_stride = 2\n",
    "conv2_pad = 'SAME'"
   ]
  },
  {
   "cell_type": "code",
   "execution_count": 58,
   "metadata": {},
   "outputs": [],
   "source": [
    "pool3_feature_maps = conv2_featrure_maps"
   ]
  },
  {
   "cell_type": "code",
   "execution_count": 59,
   "metadata": {},
   "outputs": [],
   "source": [
    "n_fullyconn1 = 64\n",
    "n_outputs = 11"
   ]
  },
  {
   "cell_type": "code",
   "execution_count": 60,
   "metadata": {},
   "outputs": [],
   "source": [
    "tf.reset_default_graph()"
   ]
  },
  {
   "cell_type": "code",
   "execution_count": 61,
   "metadata": {},
   "outputs": [],
   "source": [
    "X = tf.placeholder(tf.float32, shape=[None, height, width, channels], name='X')"
   ]
  },
  {
   "cell_type": "code",
   "execution_count": 62,
   "metadata": {},
   "outputs": [],
   "source": [
    "y = tf.placeholder(tf.int32, shape=[None], name='y')"
   ]
  },
  {
   "cell_type": "code",
   "execution_count": 63,
   "metadata": {},
   "outputs": [],
   "source": [
    "conv1 = tf.layers.conv2d(X, filters=conv1_featrure_maps,\n",
    "                        kernel_size=conv1_kernel_size,\n",
    "                        strides=conv1_stride, padding=conv1_pad,\n",
    "                        activation=tf.nn.relu, name='conv1')"
   ]
  },
  {
   "cell_type": "code",
   "execution_count": 64,
   "metadata": {},
   "outputs": [
    {
     "data": {
      "text/plain": [
       "TensorShape([Dimension(None), Dimension(32), Dimension(32), Dimension(32)])"
      ]
     },
     "execution_count": 64,
     "metadata": {},
     "output_type": "execute_result"
    }
   ],
   "source": [
    "conv1.shape"
   ]
  },
  {
   "cell_type": "code",
   "execution_count": 65,
   "metadata": {},
   "outputs": [],
   "source": [
    "conv2 = tf.layers.conv2d(conv1, filters=conv2_featrure_maps,\n",
    "                        kernel_size=conv2_kernel_size,\n",
    "                        strides=conv2_stride, padding=conv2_pad,\n",
    "                        activation=tf.nn.relu, name='conv2')"
   ]
  },
  {
   "cell_type": "code",
   "execution_count": 66,
   "metadata": {},
   "outputs": [
    {
     "data": {
      "text/plain": [
       "TensorShape([Dimension(None), Dimension(16), Dimension(16), Dimension(62)])"
      ]
     },
     "execution_count": 66,
     "metadata": {},
     "output_type": "execute_result"
    }
   ],
   "source": [
    "conv2.shape"
   ]
  },
  {
   "cell_type": "code",
   "execution_count": 67,
   "metadata": {},
   "outputs": [],
   "source": [
    "pool3 = tf.nn.max_pool(conv2, ksize=[1, 2, 2, 1], #[quantidade, altura, largura, canais]\n",
    "                      strides = [1, 2, 2, 1], #[quantidade, altura, largura, canais]\n",
    "                      padding='VALID')"
   ]
  },
  {
   "cell_type": "code",
   "execution_count": 68,
   "metadata": {},
   "outputs": [
    {
     "data": {
      "text/plain": [
       "TensorShape([Dimension(None), Dimension(8), Dimension(8), Dimension(62)])"
      ]
     },
     "execution_count": 68,
     "metadata": {},
     "output_type": "execute_result"
    }
   ],
   "source": [
    "pool3.shape"
   ]
  },
  {
   "cell_type": "code",
   "execution_count": 69,
   "metadata": {},
   "outputs": [],
   "source": [
    "pool3_flat = tf.reshape(pool3, shape=[-1, pool3_feature_maps * 8 * 8])"
   ]
  },
  {
   "cell_type": "code",
   "execution_count": 70,
   "metadata": {},
   "outputs": [],
   "source": [
    "fullyconn1 = tf.layers.dense(pool3_flat, n_fullyconn1,\n",
    "                            activation=tf.nn.relu, name='fc1')"
   ]
  },
  {
   "cell_type": "code",
   "execution_count": 71,
   "metadata": {},
   "outputs": [],
   "source": [
    "logits = tf.layers.dense(fullyconn1, n_outputs, name='output')"
   ]
  },
  {
   "cell_type": "code",
   "execution_count": 72,
   "metadata": {},
   "outputs": [],
   "source": [
    "# agora iremos definir nossa função de entropia\n",
    "# para medir o quão bom nosso modelo está sendo \n",
    "# eficiente na classificação\n",
    "\n",
    "xentropy = tf.nn.sparse_softmax_cross_entropy_with_logits(logits=logits, labels=y)"
   ]
  },
  {
   "cell_type": "code",
   "execution_count": 73,
   "metadata": {},
   "outputs": [],
   "source": [
    "loss = tf.reduce_mean(xentropy)\n",
    "optimizer = tf.train.AdamOptimizer()\n",
    "training_op = optimizer.minimize(loss)"
   ]
  },
  {
   "cell_type": "code",
   "execution_count": 74,
   "metadata": {},
   "outputs": [],
   "source": [
    "correct = tf.nn.in_top_k(logits, y, 1)"
   ]
  },
  {
   "cell_type": "code",
   "execution_count": 75,
   "metadata": {},
   "outputs": [],
   "source": [
    "accuracy = tf.reduce_mean(tf.cast(correct, tf.float32))"
   ]
  },
  {
   "cell_type": "code",
   "execution_count": 76,
   "metadata": {},
   "outputs": [],
   "source": [
    "init = tf.global_variables_initializer()"
   ]
  },
  {
   "cell_type": "code",
   "execution_count": 77,
   "metadata": {},
   "outputs": [],
   "source": [
    "current_interation = 0\n",
    "\n",
    "def get_next_batch(batch_size):\n",
    "    global current_interation\n",
    "    \n",
    "    start_index = (current_interation * batch_size) % len(y_train)\n",
    "    end_index = start_index + batch_size\n",
    "    \n",
    "    x_batch = x_train[start_index:end_index]\n",
    "    y_batch = y_train[start_index:end_index]\n",
    "    \n",
    "    current_interation = current_interation + 1\n",
    "    \n",
    "    return x_batch, y_batch"
   ]
  },
  {
   "cell_type": "code",
   "execution_count": 78,
   "metadata": {},
   "outputs": [],
   "source": [
    "n_epochs = 10\n",
    "batch_size = 100"
   ]
  },
  {
   "cell_type": "code",
   "execution_count": 80,
   "metadata": {},
   "outputs": [
    {
     "name": "stdout",
     "output_type": "stream",
     "text": [
      "0 Train accuracy: 0.26 Test \n",
      "1 Train accuracy: 0.56 Test \n",
      "2 Train accuracy: 0.64 Test \n",
      "3 Train accuracy: 0.66 Test \n",
      "4 Train accuracy: 0.74 Test \n",
      "5 Train accuracy: 0.77 Test \n",
      "6 Train accuracy: 0.8 Test \n",
      "7 Train accuracy: 0.78 Test \n",
      "8 Train accuracy: 0.82 Test \n",
      "9 Train accuracy: 0.79 Test \n"
     ]
    }
   ],
   "source": [
    "with tf.Session() as sess:\n",
    "    init.run()\n",
    "    \n",
    "    num_exemples = len(y_train)\n",
    "    for epoch in range(n_epochs):\n",
    "        for iteration in range(num_exemples//batch_size):\n",
    "            X_batch, y_batch = get_next_batch(batch_size)\n",
    "            \n",
    "            sess.run(training_op, feed_dict={X: X_batch, y: y_batch})\n",
    "            \n",
    "        acc_train = accuracy.eval(feed_dict={X:X_batch, y: y_batch})\n",
    "        acc_test = accuracy.eval(feed_dict={X: x_test, y: y_test})\n",
    "        \n",
    "        print(epoch, \"Train accuracy:\", acc_train, \"Test \")"
   ]
  },
  {
   "cell_type": "code",
   "execution_count": null,
   "metadata": {},
   "outputs": [],
   "source": []
  }
 ],
 "metadata": {
  "kernelspec": {
   "display_name": "Python 3",
   "language": "python",
   "name": "python3"
  },
  "language_info": {
   "codemirror_mode": {
    "name": "ipython",
    "version": 3
   },
   "file_extension": ".py",
   "mimetype": "text/x-python",
   "name": "python",
   "nbconvert_exporter": "python",
   "pygments_lexer": "ipython3",
   "version": "3.5.2"
  }
 },
 "nbformat": 4,
 "nbformat_minor": 2
}
